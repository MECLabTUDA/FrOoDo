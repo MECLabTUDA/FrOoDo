{
 "cells": [
  {
   "cell_type": "code",
   "execution_count": 1,
   "metadata": {},
   "outputs": [
    {
     "data": {
      "text/plain": [
       "DistributionSampleType.IN_DISTRIBUTION_DATA - {}"
      ]
     },
     "execution_count": 1,
     "metadata": {},
     "output_type": "execute_result"
    }
   ],
   "source": [
    "from digipat.data.datasets.examples.bcss import BCSS_OOD_Dataset\n",
    "from digipat.data.augmentations import *\n",
    "\n",
    "data = BCSS_OOD_Dataset()\n",
    "aug = SampledOODAugmentation(DarkSpotsAugmentation(), 0.5)\n",
    "img, mask, meta = aug(torch.ones(3, 300, 300), torch.ones((300, 300)))\n",
    "meta\n"
   ]
  },
  {
   "cell_type": "code",
   "execution_count": 3,
   "metadata": {},
   "outputs": [
    {
     "data": {
      "text/plain": [
       "<DistributionSampleType.DATASET_OOD_DATA: 4>"
      ]
     },
     "execution_count": 3,
     "metadata": {},
     "output_type": "execute_result"
    }
   ],
   "source": [
    "from digipat.data.metadata import *\n",
    "\n",
    "test = init_sample_metadata()\n",
    "test.type= DistributionSampleType.IN_DISTRIBUTION_DATA\n",
    "test[\"type\"] = DistributionSampleType.DATASET_OOD_DATA\n",
    "test.data = {\"lko\": 3, \"type\": 50}\n",
    "test.type"
   ]
  },
  {
   "cell_type": "code",
   "execution_count": 1,
   "metadata": {},
   "outputs": [
    {
     "name": "stderr",
     "output_type": "stream",
     "text": [
      "  0%|          | 0/953 [00:00<?, ?it/s]"
     ]
    }
   ],
   "source": [
    "from digipat.ood.strategy import AugmentationStrategy\n",
    "from digipat.data.datasets.examples.bcss import BCSS_OOD_Dataset\n",
    "from digipat.data.augmentations import *\n",
    "from digipat.ood.methods import ODIN, EnergyBased, MaxClassBaseline\n",
    "from digipat.models.segmantation import SegmentationModel\n",
    "from digipat.data.metadata import MetadataCommonTypes\n",
    "\n",
    "import matplotlib.pyplot as plt\n",
    "import tqdm\n",
    "import numpy as np\n",
    "import pandas as pd\n",
    "\n",
    "strategy = AugmentationStrategy(\n",
    "    BCSS_OOD_Dataset(),\n",
    "    SampledOODAugmentation(\n",
    "        DarkSpotsAugmentation(sample_range={\"scale\": (0.45, 4.75)}), 0.5\n",
    "    ),\n",
    ")\n",
    "net = SegmentationModel().load()\n",
    "methods = [MaxClassBaseline(), ODIN(), EnergyBased()]\n",
    "i = 0\n",
    "all = []\n",
    "for img, mask, meta in tqdm.tqdm(strategy.get_dataloader(batch_size=16, num_workers=8)):\n",
    "\n",
    "    for index, m in enumerate(methods):\n",
    "        scores = m(img, mask, net)\n",
    "        scores = np.mean(scores, tuple(range(1, scores.ndim)))\n",
    "        meta.append_to_keyed_dict(\n",
    "            MetadataCommonTypes.OOD_SCORE.name, f\"{index}_{type(m).__name__}\", scores\n",
    "        )\n",
    "\n",
    "    all.extend(meta.batch)\n",
    "    print(meta[\"OOD_SCORE\"])\n",
    "\n",
    "    extract_fns = [\n",
    "        lambda x: int(\n",
    "            x.__getitem__(\"type\") is DistributionSampleType.IN_DISTRIBUTION_DATA\n",
    "        ), 2,\n",
    "        lambda x, y=50: (x.__getitem__(\"OOD_SEVERITY\").get_bin(y), y) if x.__getitem__(\"OOD_SEVERITY\") != None else (None,y),\n",
    "    ]\n",
    "\n",
    "\n",
    "    i += 1\n",
    "    if i >= 1:\n",
    "        break\n",
    "[fn(all[0]) for fn in extract_fns]\n",
    "\n",
    "\n",
    "pd.json_normalize(all[0], sep='_')\n",
    "\n"
   ]
  },
  {
   "cell_type": "code",
   "execution_count": 6,
   "metadata": {},
   "outputs": [
    {
     "name": "stdout",
     "output_type": "stream",
     "text": [
      "defaultdict(<function dict_default at 0x00000221C68DB430>, {'OOD_SCORE': {'0_MaxClassBaseline': 0.9253785, '1_ODIN': 0.88806087, '2_EnergyBased': 3.5671916}})\n"
     ]
    },
    {
     "data": {
      "text/html": [
       "<div>\n",
       "<style scoped>\n",
       "    .dataframe tbody tr th:only-of-type {\n",
       "        vertical-align: middle;\n",
       "    }\n",
       "\n",
       "    .dataframe tbody tr th {\n",
       "        vertical-align: top;\n",
       "    }\n",
       "\n",
       "    .dataframe thead th {\n",
       "        text-align: right;\n",
       "    }\n",
       "</style>\n",
       "<table border=\"1\" class=\"dataframe\">\n",
       "  <thead>\n",
       "    <tr style=\"text-align: right;\">\n",
       "      <th></th>\n",
       "      <th>OOD_SCORE.0_MaxClassBaseline</th>\n",
       "      <th>OOD_SCORE.1_ODIN</th>\n",
       "      <th>OOD_SCORE.2_EnergyBased</th>\n",
       "      <th>OOD_SEVERITY</th>\n",
       "    </tr>\n",
       "  </thead>\n",
       "  <tbody>\n",
       "    <tr>\n",
       "      <th>0</th>\n",
       "      <td>0.925379</td>\n",
       "      <td>0.888061</td>\n",
       "      <td>3.567192</td>\n",
       "      <td>NaN</td>\n",
       "    </tr>\n",
       "    <tr>\n",
       "      <th>1</th>\n",
       "      <td>0.951427</td>\n",
       "      <td>0.916037</td>\n",
       "      <td>3.917006</td>\n",
       "      <td>NaN</td>\n",
       "    </tr>\n",
       "    <tr>\n",
       "      <th>2</th>\n",
       "      <td>0.960545</td>\n",
       "      <td>0.836908</td>\n",
       "      <td>3.699442</td>\n",
       "      <td>PixelPercentage [0-1]: 0.21326667070388794</td>\n",
       "    </tr>\n",
       "    <tr>\n",
       "      <th>3</th>\n",
       "      <td>0.957528</td>\n",
       "      <td>0.770954</td>\n",
       "      <td>3.745830</td>\n",
       "      <td>PixelPercentage [0-1]: 0.9509222507476807</td>\n",
       "    </tr>\n",
       "    <tr>\n",
       "      <th>4</th>\n",
       "      <td>0.945258</td>\n",
       "      <td>0.843281</td>\n",
       "      <td>3.770459</td>\n",
       "      <td>NaN</td>\n",
       "    </tr>\n",
       "    <tr>\n",
       "      <th>5</th>\n",
       "      <td>0.947532</td>\n",
       "      <td>0.835685</td>\n",
       "      <td>3.691584</td>\n",
       "      <td>PixelPercentage [0-1]: 0.11497777700424194</td>\n",
       "    </tr>\n",
       "    <tr>\n",
       "      <th>6</th>\n",
       "      <td>0.975462</td>\n",
       "      <td>0.790424</td>\n",
       "      <td>3.833863</td>\n",
       "      <td>PixelPercentage [0-1]: 0.7317555546760559</td>\n",
       "    </tr>\n",
       "    <tr>\n",
       "      <th>7</th>\n",
       "      <td>0.979216</td>\n",
       "      <td>0.837904</td>\n",
       "      <td>3.952767</td>\n",
       "      <td>PixelPercentage [0-1]: 0.019200000911951065</td>\n",
       "    </tr>\n",
       "    <tr>\n",
       "      <th>8</th>\n",
       "      <td>0.987551</td>\n",
       "      <td>0.837015</td>\n",
       "      <td>3.928961</td>\n",
       "      <td>PixelPercentage [0-1]: 0.22405555844306946</td>\n",
       "    </tr>\n",
       "    <tr>\n",
       "      <th>9</th>\n",
       "      <td>0.976940</td>\n",
       "      <td>0.820312</td>\n",
       "      <td>3.843789</td>\n",
       "      <td>PixelPercentage [0-1]: 0.5424555540084839</td>\n",
       "    </tr>\n",
       "    <tr>\n",
       "      <th>10</th>\n",
       "      <td>0.985222</td>\n",
       "      <td>0.970047</td>\n",
       "      <td>4.459590</td>\n",
       "      <td>NaN</td>\n",
       "    </tr>\n",
       "    <tr>\n",
       "      <th>11</th>\n",
       "      <td>0.936057</td>\n",
       "      <td>0.812806</td>\n",
       "      <td>3.637825</td>\n",
       "      <td>PixelPercentage [0-1]: 0.3459111154079437</td>\n",
       "    </tr>\n",
       "    <tr>\n",
       "      <th>12</th>\n",
       "      <td>0.931117</td>\n",
       "      <td>0.806321</td>\n",
       "      <td>3.579638</td>\n",
       "      <td>PixelPercentage [0-1]: 0.3213333189487457</td>\n",
       "    </tr>\n",
       "    <tr>\n",
       "      <th>13</th>\n",
       "      <td>0.965316</td>\n",
       "      <td>0.778731</td>\n",
       "      <td>3.734703</td>\n",
       "      <td>PixelPercentage [0-1]: 0.9371111392974854</td>\n",
       "    </tr>\n",
       "    <tr>\n",
       "      <th>14</th>\n",
       "      <td>0.953498</td>\n",
       "      <td>0.842350</td>\n",
       "      <td>3.720004</td>\n",
       "      <td>NaN</td>\n",
       "    </tr>\n",
       "    <tr>\n",
       "      <th>15</th>\n",
       "      <td>0.961266</td>\n",
       "      <td>0.849334</td>\n",
       "      <td>3.855919</td>\n",
       "      <td>NaN</td>\n",
       "    </tr>\n",
       "  </tbody>\n",
       "</table>\n",
       "</div>"
      ],
      "text/plain": [
       "    OOD_SCORE.0_MaxClassBaseline  OOD_SCORE.1_ODIN  OOD_SCORE.2_EnergyBased  \\\n",
       "0                       0.925379          0.888061                 3.567192   \n",
       "1                       0.951427          0.916037                 3.917006   \n",
       "2                       0.960545          0.836908                 3.699442   \n",
       "3                       0.957528          0.770954                 3.745830   \n",
       "4                       0.945258          0.843281                 3.770459   \n",
       "5                       0.947532          0.835685                 3.691584   \n",
       "6                       0.975462          0.790424                 3.833863   \n",
       "7                       0.979216          0.837904                 3.952767   \n",
       "8                       0.987551          0.837015                 3.928961   \n",
       "9                       0.976940          0.820312                 3.843789   \n",
       "10                      0.985222          0.970047                 4.459590   \n",
       "11                      0.936057          0.812806                 3.637825   \n",
       "12                      0.931117          0.806321                 3.579638   \n",
       "13                      0.965316          0.778731                 3.734703   \n",
       "14                      0.953498          0.842350                 3.720004   \n",
       "15                      0.961266          0.849334                 3.855919   \n",
       "\n",
       "                                   OOD_SEVERITY  \n",
       "0                                           NaN  \n",
       "1                                           NaN  \n",
       "2    PixelPercentage [0-1]: 0.21326667070388794  \n",
       "3     PixelPercentage [0-1]: 0.9509222507476807  \n",
       "4                                           NaN  \n",
       "5    PixelPercentage [0-1]: 0.11497777700424194  \n",
       "6     PixelPercentage [0-1]: 0.7317555546760559  \n",
       "7   PixelPercentage [0-1]: 0.019200000911951065  \n",
       "8    PixelPercentage [0-1]: 0.22405555844306946  \n",
       "9     PixelPercentage [0-1]: 0.5424555540084839  \n",
       "10                                          NaN  \n",
       "11    PixelPercentage [0-1]: 0.3459111154079437  \n",
       "12    PixelPercentage [0-1]: 0.3213333189487457  \n",
       "13    PixelPercentage [0-1]: 0.9371111392974854  \n",
       "14                                          NaN  \n",
       "15                                          NaN  "
      ]
     },
     "execution_count": 6,
     "metadata": {},
     "output_type": "execute_result"
    }
   ],
   "source": [
    "import pandas as pd\n",
    "\n",
    "print(all[0].data)\n",
    "pd.json_normalize([a.data for a in all])\n"
   ]
  },
  {
   "cell_type": "code",
   "execution_count": 6,
   "metadata": {},
   "outputs": [
    {
     "data": {
      "image/png": "[encoded data removed]",
      "text/plain": [
       "<Figure size 432x288 with 1 Axes>"
      ]
     },
     "metadata": {
      "needs_background": "light"
     },
     "output_type": "display_data"
    }
   ],
   "source": [
    "    # print(np.mean(score,tuple(range(1, score.ndim))))\n",
    "    # all.extend(\n",
    "    #    [\n",
    "    #        m[\"severity\"].measurement\n",
    "    #        for m in meta\n",
    "    #        if m.type is DistributionSampleType.AUGMENTATION_OOD_DATA\n",
    "    #    ]\n",
    "    # )\n",
    "\n",
    "import numpy as np\n",
    "plt.hist(all, 500)\n",
    "plt.show()\n"
   ]
  },
  {
   "cell_type": "code",
   "execution_count": 13,
   "metadata": {},
   "outputs": [
    {
     "name": "stdout",
     "output_type": "stream",
     "text": [
      "3 (1, 5) 100\n",
      "49\n",
      "49\n"
     ]
    }
   ],
   "source": []
  },
  {
   "cell_type": "code",
   "execution_count": null,
   "metadata": {},
   "outputs": [],
   "source": []
  }
 ],
 "metadata": {
  "interpreter": {
   "hash": "87c9675da891b5e3f480e50b3bb4883648ffa9aa2dcde42856e55c3117a22d79"
  },
  "kernelspec": {
   "display_name": "Python 3.9.5 ('ssl4uc')",
   "language": "python",
   "name": "python3"
  },
  "language_info": {
   "codemirror_mode": {
    "name": "ipython",
    "version": 3
   },
   "file_extension": ".py",
   "mimetype": "text/x-python",
   "name": "python",
   "nbconvert_exporter": "python",
   "pygments_lexer": "ipython3",
   "version": "3.9.5"
  },
  "orig_nbformat": 4
 },
 "nbformat": 4,
 "nbformat_minor": 2
}

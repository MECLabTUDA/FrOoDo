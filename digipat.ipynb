{
 "cells": [
  {
   "cell_type": "code",
   "execution_count": 50,
   "metadata": {},
   "outputs": [
    {
     "data": {
      "text/plain": [
       "29"
      ]
     },
     "execution_count": 50,
     "metadata": {},
     "output_type": "execute_result"
    }
   ],
   "source": [
    "from digipat.data.datasets.examples.bcss import BCSS_OOD_Dataset\n",
    "from digipat.data.augmentations import *\n",
    "\n",
    "data = BCSS_OOD_Dataset()\n",
    "SampledOODAugmentation(DarkSpotsAugmentation(),1)(\n",
    "    torch.ones(3, 300, 300), torch.ones((300,300))\n",
    ")[2][\"severity\"].get_bin(100)\n"
   ]
  },
  {
   "cell_type": "code",
   "execution_count": null,
   "metadata": {},
   "outputs": [],
   "source": []
  },
  {
   "cell_type": "code",
   "execution_count": null,
   "metadata": {},
   "outputs": [],
   "source": []
  }
 ],
 "metadata": {
  "interpreter": {
   "hash": "87c9675da891b5e3f480e50b3bb4883648ffa9aa2dcde42856e55c3117a22d79"
  },
  "kernelspec": {
   "display_name": "Python 3.9.5 ('ssl4uc')",
   "language": "python",
   "name": "python3"
  },
  "language_info": {
   "codemirror_mode": {
    "name": "ipython",
    "version": 3
   },
   "file_extension": ".py",
   "mimetype": "text/x-python",
   "name": "python",
   "nbconvert_exporter": "python",
   "pygments_lexer": "ipython3",
   "version": "3.9.5"
  },
  "orig_nbformat": 4
 },
 "nbformat": 4,
 "nbformat_minor": 2
}
